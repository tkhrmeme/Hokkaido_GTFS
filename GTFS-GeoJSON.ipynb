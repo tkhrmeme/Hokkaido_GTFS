{
 "cells": [
  {
   "cell_type": "markdown",
   "metadata": {},
   "source": [
    "北海道オープンデータプラットフォーム(https://pf.hoda.jp/) で公開されている公共交通GTFSデータ(https://ckan.hoda.jp/dataset/gtfs-data) をGeoJSON形式のファイルに変換します。\n"
   ]
  },
  {
   "cell_type": "code",
   "execution_count": 2,
   "metadata": {},
   "outputs": [],
   "source": [
    "import os\n",
    "import zipfile\n",
    "import pandas as pd\n",
    "import json\n",
    "import io"
   ]
  },
  {
   "cell_type": "markdown",
   "metadata": {},
   "source": [
    "### 停留所の座標データをGeoJSON (type=Point) に変換"
   ]
  },
  {
   "cell_type": "code",
   "execution_count": 3,
   "metadata": {
    "code_folding": []
   },
   "outputs": [],
   "source": [
    "def outputStops(df, fp):\n",
    "    featureCollection = {\n",
    "        \"type\":\"FeatureCollection\",\n",
    "        \"name\":\"GTFS stops\"\n",
    "    }\n",
    "    featureCollection[\"features\"] = []\n",
    "\n",
    "    for i,s in df.iterrows():\n",
    "        feature = {\n",
    "            \"type\":\"Feature\"\n",
    "        }\n",
    "        feature[\"geometry\"]  = {\n",
    "            \"type\":\"Point\",\n",
    "            \"coordinates\":[s['stop_lon'], s['stop_lat']]\n",
    "        }\n",
    "        feature[\"properties\"] = {\n",
    "#             'stop_id':s.stop_id,\n",
    "#             'stop_name':s.stop_name\n",
    "        }\n",
    "        \n",
    "        for k,v in s.iteritems():\n",
    "            feature[\"properties\"][k] = v\n",
    "    \n",
    "        featureCollection[\"features\"].append(feature)\n",
    "\n",
    "    json.dump(featureCollection, fp, ensure_ascii=False, indent=1)"
   ]
  },
  {
   "cell_type": "markdown",
   "metadata": {},
   "source": [
    "### 経路形状のデータをGeoJSON (type=LineString) に変換"
   ]
  },
  {
   "cell_type": "code",
   "execution_count": 4,
   "metadata": {},
   "outputs": [],
   "source": [
    "def outputShapes(df, fp):\n",
    "    featureCollection = {\n",
    "        \"type\":\"FeatureCollection\",\n",
    "        \"name\":\"GTFS shapes\"\n",
    "    }\n",
    "    featureCollection[\"features\"] = []\n",
    "\n",
    "    for shpid, df_ in df.groupby('shape_id'):\n",
    "        feature = {\n",
    "            \"type\":\"Feature\",\n",
    "            \"properties\": {\n",
    "                \"shape_id\":shpid,\n",
    "                \"lineColor\":[80,80,255],\n",
    "                \"lineWidth\": 1,\n",
    "                \"opacity\":0.8\n",
    "            },\n",
    "            \"geometry\": {\n",
    "                \"type\":\"LineString\",\n",
    "                \"coordinates\": df_.loc[:, ['shape_pt_lon', 'shape_pt_lat']].values.tolist()\n",
    "            }\n",
    "        }\n",
    "\n",
    "        featureCollection[\"features\"].append(feature)\n",
    "\n",
    "    json.dump(featureCollection, fp, ensure_ascii=False, indent=None)"
   ]
  },
  {
   "cell_type": "markdown",
   "metadata": {},
   "source": [
    "### ZIPファイルからstops.txtを取り出してGeoJSONを出力する"
   ]
  },
  {
   "cell_type": "code",
   "execution_count": 5,
   "metadata": {},
   "outputs": [
    {
     "name": "stdout",
     "output_type": "stream",
     "text": [
      "abashiri_bus: Num. of stops=2450\n",
      "akan_bus: Num. of stops=7630\n",
      "asahikawa_denki: Num. of stops=5712\n",
      "atsuma_bus: Num. of stops=1834\n",
      "bankei_bus: Num. of stops=406\n",
      "dounan_bus: Num. of stops=16730\n",
      "engan_bus: Num. of stops=5502\n",
      "eniwashi_com: Num. of stops=973\n",
      "fukagawashi_com: Num. of stops=511\n",
      "furano_bus: Num. of stops=1624\n",
      "haborocho_com: Num. of stops=371\n",
      "hokkaido_chuo: Num. of stops=36771\n",
      "joutetsu: Num. of stops=2849\n",
      "kitami_bus: Num. of stops=9653\n",
      "kushiro_bus: Num. of stops=7644\n",
      "meishi_bus: Num. of stops=2884\n",
      "memurocho_com: Num. of stops=1078\n",
      "mikasashi_com: Num. of stops=224\n",
      "naiecho_com: Num. of stops=455\n",
      "nakashibetsucho_com: Num. of stops=2170\n",
      "nayoroshi_com: Num. of stops=700\n",
      "nemuro_kotu: Num. of stops=2380\n",
      "sharicho_com: Num. of stops=553\n",
      "shihorocho_com: Num. of stops=420\n",
      "sorachi_chuo_bus: Num. of stops=3122\n",
      "syari_bus: Num. of stops=504\n",
      "takushoku_bus: Num. of stops=4956\n",
      "tobetsucho_com: Num. of stops=679\n",
      "tokachi_bus: Num. of stops=11718\n",
      "yutetsu_bus: Num. of stops=3010\n"
     ]
    }
   ],
   "source": [
    "# hodaフォルダ内の.zipファイルをまとめて変換する\n",
    "for zip_file in filter(lambda f: f[-4:]=='.zip', os.listdir(\"hoda\")):\n",
    "    bus_name = zip_file.split('.')[0]\n",
    "    \n",
    "    path = os.path.join(\"hoda\", zip_file)\n",
    "    \n",
    "    with zipfile.ZipFile(path) as _zip:\n",
    "        for info in _zip.infolist():\n",
    "            if info.filename==\"stops.txt\":\n",
    "                # zipファイルから stops.txt を読み込む\n",
    "                buffer = io.StringIO(_zip.read(info.filename).decode('utf-8'))\n",
    "                \n",
    "                # CSVデータからDataFrameを生成\n",
    "                df = pd.read_csv(buffer)\n",
    "                \n",
    "                # 値が入っていない列は削除\n",
    "                df = df.dropna(axis='columns', how='all')\n",
    "                \n",
    "                print(f\"{bus_name}: Num. of stops={df.size}\")\n",
    "                \n",
    "                with open(os.path.join(\"GeoJSON\", f\"{bus_name}_stops.geojson\"), \"w\") as fp:\n",
    "                    outputStops(df, fp)"
   ]
  }
 ],
 "metadata": {
  "kernelspec": {
   "display_name": "Python 3",
   "language": "python",
   "name": "python3"
  },
  "language_info": {
   "codemirror_mode": {
    "name": "ipython",
    "version": 3
   },
   "file_extension": ".py",
   "mimetype": "text/x-python",
   "name": "python",
   "nbconvert_exporter": "python",
   "pygments_lexer": "ipython3",
   "version": "3.8.0"
  }
 },
 "nbformat": 4,
 "nbformat_minor": 2
}
